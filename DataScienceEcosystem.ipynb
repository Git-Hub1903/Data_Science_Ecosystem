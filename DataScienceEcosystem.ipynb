{
 "cells": [
  {
   "cell_type": "markdown",
   "id": "bb4ea66c-d356-4926-97dc-b89ab86b25b0",
   "metadata": {},
   "source": [
    "# Data Science Tools and Ecosystem"
   ]
  },
  {
   "cell_type": "markdown",
   "id": "8f5ab0c2-3e94-4964-89f2-b955795ff45e",
   "metadata": {},
   "source": [
    "In this notebook, Data Science Tools and Ecosystem are summarized."
   ]
  },
  {
   "cell_type": "markdown",
   "id": "eaf8945b-6303-47ee-acf2-13fb6fba334f",
   "metadata": {},
   "source": [
    "**Objectives**\n",
    "- Identify popular data science languages\n",
    "- List common data science libraries\n",
    "- Provide some IDE data science tools\n",
    "- Provide examples of executed code in Python"
   ]
  },
  {
   "cell_type": "markdown",
   "id": "59bd93c2-8f4f-4740-8fea-4c0c83db1249",
   "metadata": {},
   "source": [
    "Some popular languages used in Data Science include:\n",
    "1. R\n",
    "2. Python\n",
    "3. SQL\n",
    "4. Java\n",
    "5. Scala"
   ]
  },
  {
   "cell_type": "markdown",
   "id": "79bf2710-b4d5-40f7-9ab6-38fc27a917d9",
   "metadata": {},
   "source": [
    "Some libraries commonly used by Data Scientist are:\n",
    "1. NumPy\n",
    "2. Pandas\n",
    "3. Matplotlib\n",
    "4. Scikit-learn\n",
    "5. R Libraries\n",
    "6. TensorFlow\n",
    "7. Apache Spark"
   ]
  },
  {
   "cell_type": "markdown",
   "id": "6d0e89f4-cd71-4b2f-b896-d6b7d64f5957",
   "metadata": {},
   "source": [
    "| Data Science Tools |\n",
    "| -------------------|\n",
    "| Jupyter |\n",
    "| RStudio |\n",
    "| Spyder |"
   ]
  },
  {
   "cell_type": "markdown",
   "id": "7cf4f3f4-f0a2-4cac-b656-f47fd817f3f7",
   "metadata": {},
   "source": [
    "### Below are a few examples of evaluating arithmetic expressions in Python"
   ]
  },
  {
   "cell_type": "code",
   "execution_count": 4,
   "id": "c816203b-4094-4ab0-b115-0d6950454d4c",
   "metadata": {},
   "outputs": [
    {
     "data": {
      "text/plain": [
       "17"
      ]
     },
     "execution_count": 4,
     "metadata": {},
     "output_type": "execute_result"
    }
   ],
   "source": [
    "#This is an example of an arithmetic expression multiplying and then adding integers.\n",
    "\n",
    "(3*4)+5"
   ]
  },
  {
   "cell_type": "code",
   "execution_count": 8,
   "id": "925f55a2-df70-40b4-8eb0-e2b8fbd3a848",
   "metadata": {},
   "outputs": [
    {
     "name": "stdout",
     "output_type": "stream",
     "text": [
      "3.3333333333333335\n"
     ]
    }
   ],
   "source": [
    "#This expression will convert 200 minutes to hours by dividing by 60.\n",
    "\n",
    "minutes=200\n",
    "hours=minutes/60\n",
    "print(hours)"
   ]
  },
  {
   "cell_type": "markdown",
   "id": "1d4aa505-b4cc-4dd0-a5e8-f0c9965acc78",
   "metadata": {},
   "source": [
    "## Author\n",
    "Stephanie Conley"
   ]
  },
  {
   "cell_type": "code",
   "execution_count": null,
   "id": "f7c4ca05-f64a-43c8-8d9d-dac729f25d50",
   "metadata": {},
   "outputs": [],
   "source": []
  }
 ],
 "metadata": {
  "kernelspec": {
   "display_name": "Python 3 (ipykernel)",
   "language": "python",
   "name": "python3"
  },
  "language_info": {
   "codemirror_mode": {
    "name": "ipython",
    "version": 3
   },
   "file_extension": ".py",
   "mimetype": "text/x-python",
   "name": "python",
   "nbconvert_exporter": "python",
   "pygments_lexer": "ipython3",
   "version": "3.12.8"
  }
 },
 "nbformat": 4,
 "nbformat_minor": 5
}
